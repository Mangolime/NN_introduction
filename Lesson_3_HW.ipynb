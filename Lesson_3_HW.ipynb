{
 "cells": [
  {
   "cell_type": "markdown",
   "metadata": {},
   "source": [
    "# Домашнее задание к уроку 3"
   ]
  },
  {
   "cell_type": "markdown",
   "metadata": {},
   "source": [
    "## Задача: классификация изображений с рукописными буквами"
   ]
  },
  {
   "cell_type": "code",
   "execution_count": 442,
   "metadata": {},
   "outputs": [],
   "source": [
    "# Импорт библиотек\n",
    "import numpy as np\n",
    "import pandas as pd\n",
    "import matplotlib.pyplot as plt\n",
    "from matplotlib.colors import ListedColormap\n",
    "\n",
    "from tensorflow.keras.models import Sequential\n",
    "from tensorflow.keras.layers import Dense\n",
    "import tensorflow as tf\n",
    "from tensorflow import keras\n",
    "import random as python_random\n",
    "\n",
    "from sklearn.model_selection import train_test_split\n",
    "\n",
    "import os\n",
    "\n",
    "import random"
   ]
  },
  {
   "cell_type": "code",
   "execution_count": 443,
   "metadata": {},
   "outputs": [],
   "source": [
    "os.environ['PYTHONHASHSEED']=str(123)\n",
    "random.seed(123)\n",
    "np.random.seed(123)\n",
    "tf.random.set_seed(123)\n",
    "session_conf = tf.compat.v1.ConfigProto(intra_op_parallelism_threads=1, inter_op_parallelism_threads=1)\n",
    "sess = tf.compat.v1.Session(graph=tf.compat.v1.get_default_graph(), config=session_conf)\n",
    "tf.compat.v1.keras.backend.set_session(sess)"
   ]
  },
  {
   "cell_type": "markdown",
   "metadata": {},
   "source": [
    "## 1. Загрузка данных"
   ]
  },
  {
   "cell_type": "code",
   "execution_count": 444,
   "metadata": {
    "id": "OMHXQi0ZSimY"
   },
   "outputs": [
    {
     "name": "stdout",
     "output_type": "stream",
     "text": [
      "['0', '1', '2', '3', '4', '5', '6', '7', '8', '9', 'A', 'B', 'C', 'D', 'E', 'F', 'G', 'H', 'I', 'J', 'K', 'L', 'M', 'N', 'O', 'P', 'Q', 'R', 'S', 'T', 'U', 'V', 'W', 'X', 'Y', 'Z']\n"
     ]
    }
   ],
   "source": [
    "classes = [str(i) for i in range(10)] +  list('ABCDEFGHIJKLMNOPQRSTUVWXYZ')\n",
    "print(classes)\n",
    "\n",
    "X = np.load('binary_alpha_digits_images.npy')\n",
    "y = np.load('binary_alpha_digits_labels.npy')"
   ]
  },
  {
   "cell_type": "code",
   "execution_count": 445,
   "metadata": {
    "id": "-KABm1zlKMi-"
   },
   "outputs": [
    {
     "data": {
      "text/plain": [
       "((1404, 20, 16), (1404,))"
      ]
     },
     "execution_count": 445,
     "metadata": {},
     "output_type": "execute_result"
    }
   ],
   "source": [
    "X.shape, y.shape"
   ]
  },
  {
   "cell_type": "code",
   "execution_count": 446,
   "metadata": {
    "id": "4nmyuGLyC3W9"
   },
   "outputs": [
    {
     "data": {
      "image/png": "[encoded data removed]",
      "text/plain": [
       "<Figure size 720x360 with 15 Axes>"
      ]
     },
     "metadata": {},
     "output_type": "display_data"
    }
   ],
   "source": [
    "fig, axes = plt.subplots(3, 5, figsize=(10, 5))\n",
    "fig.suptitle('binary alpha digits', fontsize=20)\n",
    "n = 0\n",
    "for ax in axes.flat:\n",
    "    ax.set_yticks([])\n",
    "    ax.set_xticks([])\n",
    "    ax.imshow(X[n], cmap=plt.cm.binary)\n",
    "    ax.set_xlabel(classes[y[n]])\n",
    "    n += 1"
   ]
  },
  {
   "cell_type": "code",
   "execution_count": 447,
   "metadata": {},
   "outputs": [
    {
     "data": {
      "text/plain": [
       "36"
      ]
     },
     "execution_count": 447,
     "metadata": {},
     "output_type": "execute_result"
    }
   ],
   "source": [
    "len(classes)"
   ]
  },
  {
   "cell_type": "code",
   "execution_count": 448,
   "metadata": {},
   "outputs": [
    {
     "data": {
      "text/plain": [
       "array([0, 1], dtype=uint8)"
      ]
     },
     "execution_count": 448,
     "metadata": {},
     "output_type": "execute_result"
    }
   ],
   "source": [
    "np.unique(X)"
   ]
  },
  {
   "cell_type": "markdown",
   "metadata": {},
   "source": [
    "Значения пикселей в картинках - 0 или 1, поэтому нормализация не требуется."
   ]
  },
  {
   "cell_type": "code",
   "execution_count": 449,
   "metadata": {},
   "outputs": [],
   "source": [
    "X_train, X_test, y_train, y_test = train_test_split(X, y, test_size=0.3, shuffle=True, random_state=123)"
   ]
  },
  {
   "cell_type": "markdown",
   "metadata": {},
   "source": [
    "Посмотрим на распределение целевой переменной."
   ]
  },
  {
   "cell_type": "code",
   "execution_count": 450,
   "metadata": {},
   "outputs": [
    {
     "data": {
      "text/plain": [
       "(array([110.,  85.,  83.,  74.,  78., 112.,  84.,  84.,  89.,  79., 104.]),\n",
       " array([ 0.        ,  3.18181818,  6.36363636,  9.54545455, 12.72727273,\n",
       "        15.90909091, 19.09090909, 22.27272727, 25.45454545, 28.63636364,\n",
       "        31.81818182, 35.        ]),\n",
       " <BarContainer object of 11 artists>)"
      ]
     },
     "execution_count": 450,
     "metadata": {},
     "output_type": "execute_result"
    },
    {
     "data": {
      "image/png": "[encoded data removed]",
      "text/plain": [
       "<Figure size 432x288 with 1 Axes>"
      ]
     },
     "metadata": {
      "needs_background": "light"
     },
     "output_type": "display_data"
    }
   ],
   "source": [
    "plt.hist(y_train, bins='auto')"
   ]
  },
  {
   "cell_type": "markdown",
   "metadata": {},
   "source": [
    "Дисбаланс классов небольшой, поэтому его устранение вряд ли серьезно повлияет на точность обучения."
   ]
  },
  {
   "cell_type": "markdown",
   "metadata": {},
   "source": [
    "## 2. Создание модели и обучение нейронной сети"
   ]
  },
  {
   "cell_type": "markdown",
   "metadata": {},
   "source": [
    "### 2.1. Простая модель"
   ]
  },
  {
   "cell_type": "code",
   "execution_count": 478,
   "metadata": {},
   "outputs": [],
   "source": [
    "model = keras.Sequential([\n",
    "    keras.layers.Flatten(input_shape=(20, 16)),\n",
    "    keras.layers.Dense(128, activation='relu'),\n",
    "    keras.layers.Dense(36)\n",
    "])\n",
    "\n",
    "model.compile(optimizer=tf.keras.optimizers.Adam(learning_rate=0.001),\n",
    "              loss=tf.keras.losses.SparseCategoricalCrossentropy(from_logits=True),\n",
    "              metrics=['accuracy'])"
   ]
  },
  {
   "cell_type": "code",
   "execution_count": 479,
   "metadata": {},
   "outputs": [
    {
     "name": "stdout",
     "output_type": "stream",
     "text": [
      "Epoch 1/10\n",
      "31/31 [==============================] - 0s 1ms/step - loss: 3.3128 - accuracy: 0.1415\n",
      "Epoch 2/10\n",
      "31/31 [==============================] - 0s 1ms/step - loss: 2.2494 - accuracy: 0.4705\n",
      "Epoch 3/10\n",
      "31/31 [==============================] - 0s 1ms/step - loss: 1.5206 - accuracy: 0.6507\n",
      "Epoch 4/10\n",
      "31/31 [==============================] - 0s 1ms/step - loss: 1.1129 - accuracy: 0.7261\n",
      "Epoch 5/10\n",
      "31/31 [==============================] - 0s 1ms/step - loss: 0.8756 - accuracy: 0.7617\n",
      "Epoch 6/10\n",
      "31/31 [==============================] - 0s 1ms/step - loss: 0.7369 - accuracy: 0.8106\n",
      "Epoch 7/10\n",
      "31/31 [==============================] - 0s 1ms/step - loss: 0.6196 - accuracy: 0.8462\n",
      "Epoch 8/10\n",
      "31/31 [==============================] - 0s 1ms/step - loss: 0.5336 - accuracy: 0.8686\n",
      "Epoch 9/10\n",
      "31/31 [==============================] - 0s 1ms/step - loss: 0.4612 - accuracy: 0.8941\n",
      "Epoch 10/10\n",
      "31/31 [==============================] - 0s 1ms/step - loss: 0.4038 - accuracy: 0.9165\n"
     ]
    }
   ],
   "source": [
    "hstr = model.fit(X_train, y_train, epochs=10, verbose=1)"
   ]
  },
  {
   "cell_type": "code",
   "execution_count": 480,
   "metadata": {},
   "outputs": [],
   "source": [
    "probability_model = tf.keras.Sequential([model, \n",
    "                                         tf.keras.layers.Softmax()])"
   ]
  },
  {
   "cell_type": "code",
   "execution_count": 481,
   "metadata": {},
   "outputs": [
    {
     "name": "stdout",
     "output_type": "stream",
     "text": [
      "14/14 [==============================] - 0s 1ms/step\n"
     ]
    }
   ],
   "source": [
    "predictions = probability_model.predict(X_test)"
   ]
  },
  {
   "cell_type": "code",
   "execution_count": 482,
   "metadata": {},
   "outputs": [
    {
     "data": {
      "text/plain": [
       "99"
      ]
     },
     "execution_count": 482,
     "metadata": {},
     "output_type": "execute_result"
    }
   ],
   "source": [
    "np.argmax(predictions)"
   ]
  },
  {
   "cell_type": "code",
   "execution_count": 483,
   "metadata": {},
   "outputs": [
    {
     "name": "stdout",
     "output_type": "stream",
     "text": [
      "[1.6174539e-06 3.2640269e-03 2.4876264e-05 2.9523832e-07 9.2123646e-01\n",
      " 3.0707029e-06 4.0631294e-03 3.1267698e-06 5.0752224e-05 3.0504768e-07\n",
      " 2.7350743e-05 4.6646201e-05 5.0536983e-06 8.2697926e-07 5.3931280e-06\n",
      " 7.3311465e-05 1.5499899e-03 1.2241718e-05 1.2542860e-06 2.6446548e-07\n",
      " 3.8251005e-02 1.7629049e-03 4.6629211e-05 4.4636410e-03 2.8807765e-06\n",
      " 8.4374938e-07 2.6764176e-04 5.2092242e-04 4.5731308e-06 1.1719133e-05\n",
      " 3.6348321e-03 5.5062550e-04 1.7003268e-02 2.9849911e-03 1.2333032e-04\n",
      " 8.0893905e-08]\n",
      "4\n",
      "4\n"
     ]
    }
   ],
   "source": [
    "print(predictions[0],\n",
    "      np.argmax(predictions[0]),\n",
    "      y_test[0],\n",
    "      sep='\\n')"
   ]
  },
  {
   "cell_type": "code",
   "execution_count": 484,
   "metadata": {},
   "outputs": [
    {
     "name": "stdout",
     "output_type": "stream",
     "text": [
      "14/14 [==============================] - 0s 1ms/step - loss: 1.0500 - accuracy: 0.6872\n"
     ]
    },
    {
     "data": {
      "text/plain": [
       "[1.049981951713562, 0.6872037649154663]"
      ]
     },
     "execution_count": 484,
     "metadata": {},
     "output_type": "execute_result"
    }
   ],
   "source": [
    "model.evaluate(\n",
    "  X_test,\n",
    "  y_test\n",
    ")"
   ]
  },
  {
   "cell_type": "markdown",
   "metadata": {},
   "source": [
    "### 2.2. Модель с дополнительными слоями, как на уроке"
   ]
  },
  {
   "cell_type": "code",
   "execution_count": 494,
   "metadata": {},
   "outputs": [],
   "source": [
    "model = keras.Sequential([\n",
    "    keras.layers.Flatten(input_shape=(20, 16)),\n",
    "    keras.layers.Dense(256, activation='relu', \n",
    "                       kernel_regularizer=tf.keras.regularizers.L2(l2=0.1),\n",
    "                       bias_regularizer=tf.keras.regularizers.L2(l2=0.5)),\n",
    "    keras.layers.Dropout(0.1),\n",
    "    keras.layers.BatchNormalization(),\n",
    "    keras.layers.Dense(128, activation='relu'),\n",
    "    keras.layers.BatchNormalization(),\n",
    "    keras.layers.Dense(36)\n",
    "])"
   ]
  },
  {
   "cell_type": "code",
   "execution_count": 511,
   "metadata": {},
   "outputs": [],
   "source": [
    "model.compile(optimizer=tf.keras.optimizers.Adam(learning_rate=0.001),\n",
    "              loss=tf.keras.losses.SparseCategoricalCrossentropy(from_logits=True),\n",
    "              metrics=['accuracy'])"
   ]
  },
  {
   "cell_type": "code",
   "execution_count": 512,
   "metadata": {},
   "outputs": [
    {
     "name": "stdout",
     "output_type": "stream",
     "text": [
      "Epoch 1/10\n",
      "31/31 - 1s - loss: 22.5593 - accuracy: 0.1354 - 1s/epoch - 33ms/step\n",
      "Epoch 2/10\n",
      "31/31 - 0s - loss: 9.9701 - accuracy: 0.3473 - 59ms/epoch - 2ms/step\n",
      "Epoch 3/10\n",
      "31/31 - 0s - loss: 4.7084 - accuracy: 0.5570 - 55ms/epoch - 2ms/step\n",
      "Epoch 4/10\n",
      "31/31 - 0s - loss: 2.8150 - accuracy: 0.6242 - 58ms/epoch - 2ms/step\n",
      "Epoch 5/10\n",
      "31/31 - 0s - loss: 2.0719 - accuracy: 0.6670 - 58ms/epoch - 2ms/step\n",
      "Epoch 6/10\n",
      "31/31 - 0s - loss: 1.7850 - accuracy: 0.6965 - 55ms/epoch - 2ms/step\n",
      "Epoch 7/10\n",
      "31/31 - 0s - loss: 1.6183 - accuracy: 0.7179 - 58ms/epoch - 2ms/step\n",
      "Epoch 8/10\n",
      "31/31 - 0s - loss: 1.5249 - accuracy: 0.7464 - 55ms/epoch - 2ms/step\n",
      "Epoch 9/10\n",
      "31/31 - 0s - loss: 1.4731 - accuracy: 0.7332 - 56ms/epoch - 2ms/step\n",
      "Epoch 10/10\n",
      "31/31 - 0s - loss: 1.4742 - accuracy: 0.7149 - 55ms/epoch - 2ms/step\n"
     ]
    }
   ],
   "source": [
    "hstr = model.fit(X_train, y_train, epochs=10, verbose=2)"
   ]
  },
  {
   "cell_type": "code",
   "execution_count": 513,
   "metadata": {},
   "outputs": [
    {
     "name": "stdout",
     "output_type": "stream",
     "text": [
      "14/14 [==============================] - 0s 1ms/step - loss: 1.7565 - accuracy: 0.6090\n"
     ]
    },
    {
     "data": {
      "text/plain": [
       "[1.7564520835876465, 0.6090047359466553]"
      ]
     },
     "execution_count": 513,
     "metadata": {},
     "output_type": "execute_result"
    }
   ],
   "source": [
    "model.evaluate(\n",
    "  X_test,\n",
    "  y_test\n",
    ")"
   ]
  },
  {
   "cell_type": "markdown",
   "metadata": {},
   "source": [
    "Результаты хуже, чем в предыдущем варианте. Возможно, это побочный эффект от использования слоев BatchNormalization, которые повышают производительность сети, но при этом приводить к более медленному обучению на старте, к нарушению независимости примеров в батче и пр."
   ]
  },
  {
   "cell_type": "markdown",
   "metadata": {},
   "source": [
    "### 2.3. Модель как в предыдущем пункте с функцией активации tanh"
   ]
  },
  {
   "cell_type": "code",
   "execution_count": 498,
   "metadata": {},
   "outputs": [],
   "source": [
    "model = keras.Sequential([\n",
    "    keras.layers.Flatten(input_shape=(20, 16)),\n",
    "    keras.layers.Dense(256, activation='tanh', \n",
    "                       kernel_regularizer=tf.keras.regularizers.L2(l2=0.1),\n",
    "                       bias_regularizer=tf.keras.regularizers.L2(l2=0.5)),\n",
    "    keras.layers.Dropout(0.1),\n",
    "    keras.layers.BatchNormalization(),\n",
    "    keras.layers.Dense(128, activation='tanh'),\n",
    "    keras.layers.BatchNormalization(),\n",
    "    keras.layers.Dense(36)\n",
    "])"
   ]
  },
  {
   "cell_type": "code",
   "execution_count": 507,
   "metadata": {},
   "outputs": [],
   "source": [
    "model.compile(optimizer=tf.keras.optimizers.Adam(learning_rate=0.001),\n",
    "              loss=tf.keras.losses.SparseCategoricalCrossentropy(from_logits=True),\n",
    "              metrics=['accuracy'])"
   ]
  },
  {
   "cell_type": "code",
   "execution_count": 508,
   "metadata": {},
   "outputs": [
    {
     "name": "stdout",
     "output_type": "stream",
     "text": [
      "Epoch 1/10\n",
      "31/31 - 1s - loss: 22.9318 - accuracy: 0.1640 - 503ms/epoch - 16ms/step\n",
      "Epoch 2/10\n",
      "31/31 - 0s - loss: 10.1303 - accuracy: 0.5285 - 57ms/epoch - 2ms/step\n",
      "Epoch 3/10\n",
      "31/31 - 0s - loss: 4.7682 - accuracy: 0.6640 - 54ms/epoch - 2ms/step\n",
      "Epoch 4/10\n",
      "31/31 - 0s - loss: 2.7173 - accuracy: 0.6843 - 55ms/epoch - 2ms/step\n",
      "Epoch 5/10\n",
      "31/31 - 0s - loss: 1.9573 - accuracy: 0.7067 - 54ms/epoch - 2ms/step\n",
      "Epoch 6/10\n",
      "31/31 - 0s - loss: 1.6352 - accuracy: 0.7363 - 56ms/epoch - 2ms/step\n",
      "Epoch 7/10\n",
      "31/31 - 0s - loss: 1.4807 - accuracy: 0.7536 - 54ms/epoch - 2ms/step\n",
      "Epoch 8/10\n",
      "31/31 - 0s - loss: 1.4011 - accuracy: 0.7739 - 54ms/epoch - 2ms/step\n",
      "Epoch 9/10\n",
      "31/31 - 0s - loss: 1.3470 - accuracy: 0.7505 - 55ms/epoch - 2ms/step\n",
      "Epoch 10/10\n",
      "31/31 - 0s - loss: 1.3091 - accuracy: 0.7505 - 54ms/epoch - 2ms/step\n"
     ]
    }
   ],
   "source": [
    "hstr = model.fit(X_train, y_train, epochs=10, verbose=2)"
   ]
  },
  {
   "cell_type": "code",
   "execution_count": 509,
   "metadata": {},
   "outputs": [
    {
     "name": "stdout",
     "output_type": "stream",
     "text": [
      "14/14 [==============================] - 0s 1ms/step - loss: 1.6771 - accuracy: 0.5995\n"
     ]
    },
    {
     "data": {
      "text/plain": [
       "[1.6770907640457153, 0.599526047706604]"
      ]
     },
     "execution_count": 509,
     "metadata": {},
     "output_type": "execute_result"
    }
   ],
   "source": [
    "model.evaluate(\n",
    "  X_test,\n",
    "  y_test\n",
    ")"
   ]
  },
  {
   "cell_type": "markdown",
   "metadata": {},
   "source": [
    "Результаты немного лучше, чем в предыдущем варианте, но хуже первого варианта."
   ]
  },
  {
   "cell_type": "markdown",
   "metadata": {},
   "source": [
    "### 2.4. Простая модель из первого пункта с функцией активации tanh"
   ]
  },
  {
   "cell_type": "code",
   "execution_count": 466,
   "metadata": {},
   "outputs": [],
   "source": [
    "model = keras.Sequential([\n",
    "    keras.layers.Flatten(input_shape=(20, 16)),\n",
    "    keras.layers.Dense(128, activation='tanh'),\n",
    "    keras.layers.Dense(36)\n",
    "])\n",
    "\n",
    "model.compile(optimizer=tf.keras.optimizers.Adam(learning_rate=0.001),\n",
    "              loss=tf.keras.losses.SparseCategoricalCrossentropy(from_logits=True),\n",
    "              metrics=['accuracy'])"
   ]
  },
  {
   "cell_type": "code",
   "execution_count": 467,
   "metadata": {},
   "outputs": [
    {
     "name": "stdout",
     "output_type": "stream",
     "text": [
      "Epoch 1/10\n",
      "31/31 [==============================] - 0s 1ms/step - loss: 3.2997 - accuracy: 0.1568 \n",
      "Epoch 2/10\n",
      "31/31 [==============================] - 0s 1ms/step - loss: 2.1846 - accuracy: 0.5336\n",
      "Epoch 3/10\n",
      "31/31 [==============================] - 0s 1ms/step - loss: 1.5870 - accuracy: 0.6782\n",
      "Epoch 4/10\n",
      "31/31 [==============================] - 0s 1ms/step - loss: 1.2325 - accuracy: 0.7322\n",
      "Epoch 5/10\n",
      "31/31 [==============================] - 0s 1ms/step - loss: 1.0229 - accuracy: 0.7841\n",
      "Epoch 6/10\n",
      "31/31 [==============================] - 0s 1ms/step - loss: 0.8734 - accuracy: 0.8004\n",
      "Epoch 7/10\n",
      "31/31 [==============================] - 0s 1ms/step - loss: 0.7527 - accuracy: 0.8391\n",
      "Epoch 8/10\n",
      "31/31 [==============================] - 0s 1ms/step - loss: 0.6566 - accuracy: 0.8676\n",
      "Epoch 9/10\n",
      "31/31 [==============================] - 0s 1ms/step - loss: 0.5847 - accuracy: 0.8859\n",
      "Epoch 10/10\n",
      "31/31 [==============================] - 0s 1ms/step - loss: 0.5220 - accuracy: 0.8910\n"
     ]
    }
   ],
   "source": [
    "hstr = model.fit(X_train, y_train, epochs=10, verbose=1)"
   ]
  },
  {
   "cell_type": "code",
   "execution_count": 468,
   "metadata": {},
   "outputs": [],
   "source": [
    "probability_model = tf.keras.Sequential([model, \n",
    "                                         tf.keras.layers.Softmax()])"
   ]
  },
  {
   "cell_type": "code",
   "execution_count": 469,
   "metadata": {},
   "outputs": [
    {
     "name": "stdout",
     "output_type": "stream",
     "text": [
      "14/14 [==============================] - 0s 1ms/step\n"
     ]
    }
   ],
   "source": [
    "predictions = probability_model.predict(X_test)"
   ]
  },
  {
   "cell_type": "code",
   "execution_count": 470,
   "metadata": {},
   "outputs": [
    {
     "name": "stdout",
     "output_type": "stream",
     "text": [
      "14/14 [==============================] - 0s 1ms/step - loss: 1.0916 - accuracy: 0.6611\n"
     ]
    },
    {
     "data": {
      "text/plain": [
       "[1.0916417837142944, 0.6611374616622925]"
      ]
     },
     "execution_count": 470,
     "metadata": {},
     "output_type": "execute_result"
    }
   ],
   "source": [
    "model.evaluate(\n",
    "  X_test,\n",
    "  y_test\n",
    ")"
   ]
  },
  {
   "cell_type": "markdown",
   "metadata": {},
   "source": [
    "Результаты хуже, чем с функцией активации Relu."
   ]
  },
  {
   "cell_type": "markdown",
   "metadata": {},
   "source": [
    "## 3. Визуализация"
   ]
  },
  {
   "cell_type": "markdown",
   "metadata": {},
   "source": [
    "Еще раз применим первую модель, показавшую наилучшие результаты, и визуализируем результаты классификации."
   ]
  },
  {
   "cell_type": "code",
   "execution_count": 471,
   "metadata": {},
   "outputs": [],
   "source": [
    "model = keras.Sequential([\n",
    "    keras.layers.Flatten(input_shape=(20, 16)),\n",
    "    keras.layers.Dense(128, activation='relu'),\n",
    "    keras.layers.Dense(36)\n",
    "])\n",
    "\n",
    "model.compile(optimizer=tf.keras.optimizers.Adam(learning_rate=0.001),\n",
    "              loss=tf.keras.losses.SparseCategoricalCrossentropy(from_logits=True),\n",
    "              metrics=['accuracy'])"
   ]
  },
  {
   "cell_type": "code",
   "execution_count": 472,
   "metadata": {},
   "outputs": [
    {
     "name": "stdout",
     "output_type": "stream",
     "text": [
      "Epoch 1/10\n",
      "31/31 [==============================] - 0s 1ms/step - loss: 3.4131 - accuracy: 0.1008\n",
      "Epoch 2/10\n",
      "31/31 [==============================] - 0s 1ms/step - loss: 2.4429 - accuracy: 0.4379\n",
      "Epoch 3/10\n",
      "31/31 [==============================] - 0s 1ms/step - loss: 1.6577 - accuracy: 0.6161\n",
      "Epoch 4/10\n",
      "31/31 [==============================] - 0s 1ms/step - loss: 1.1886 - accuracy: 0.7261\n",
      "Epoch 5/10\n",
      "31/31 [==============================] - 0s 1ms/step - loss: 0.9072 - accuracy: 0.7862\n",
      "Epoch 6/10\n",
      "31/31 [==============================] - 0s 1ms/step - loss: 0.7621 - accuracy: 0.8096\n",
      "Epoch 7/10\n",
      "31/31 [==============================] - 0s 1ms/step - loss: 0.6383 - accuracy: 0.8615\n",
      "Epoch 8/10\n",
      "31/31 [==============================] - 0s 1ms/step - loss: 0.5523 - accuracy: 0.8747\n",
      "Epoch 9/10\n",
      "31/31 [==============================] - 0s 1ms/step - loss: 0.4715 - accuracy: 0.8971\n",
      "Epoch 10/10\n",
      "31/31 [==============================] - 0s 1ms/step - loss: 0.4142 - accuracy: 0.9063\n"
     ]
    }
   ],
   "source": [
    "hstr = model.fit(X_train, y_train, epochs=10, verbose=1)"
   ]
  },
  {
   "cell_type": "code",
   "execution_count": 473,
   "metadata": {},
   "outputs": [],
   "source": [
    "probability_model = tf.keras.Sequential([model, \n",
    "                                         tf.keras.layers.Softmax()])"
   ]
  },
  {
   "cell_type": "code",
   "execution_count": 474,
   "metadata": {},
   "outputs": [
    {
     "name": "stdout",
     "output_type": "stream",
     "text": [
      "14/14 [==============================] - 0s 953us/step\n"
     ]
    }
   ],
   "source": [
    "predictions = probability_model.predict(X_test)"
   ]
  },
  {
   "cell_type": "code",
   "execution_count": 475,
   "metadata": {},
   "outputs": [
    {
     "name": "stdout",
     "output_type": "stream",
     "text": [
      "14/14 [==============================] - 0s 1ms/step - loss: 1.0930 - accuracy: 0.6635\n"
     ]
    },
    {
     "data": {
      "text/plain": [
       "[1.0930020809173584, 0.6635071039199829]"
      ]
     },
     "execution_count": 475,
     "metadata": {},
     "output_type": "execute_result"
    }
   ],
   "source": [
    "model.evaluate(\n",
    "  X_test,\n",
    "  y_test\n",
    ")"
   ]
  },
  {
   "cell_type": "code",
   "execution_count": 476,
   "metadata": {},
   "outputs": [],
   "source": [
    "def plot_image(i, predictions_array, true_label, img):\n",
    "  predictions_array, true_label, img = predictions_array, true_label[i], img[i]\n",
    "  plt.grid(False)\n",
    "  plt.xticks([])\n",
    "  plt.yticks([])\n",
    "\n",
    "  plt.imshow(img, cmap=plt.cm.binary)\n",
    "\n",
    "  predicted_label = np.argmax(predictions_array)\n",
    "  if predicted_label == true_label:\n",
    "    color = 'blue'\n",
    "  else:\n",
    "    color = 'red'\n",
    "\n",
    "  plt.xlabel(\"{} {:2.0f}% ({})\".format(classes[predicted_label],\n",
    "                                100*np.max(predictions_array),\n",
    "                                classes[true_label]),\n",
    "                                color=color)\n",
    "\n",
    "def plot_value_array(i, predictions_array, true_label):\n",
    "  predictions_array, true_label = predictions_array, true_label[i]\n",
    "  plt.grid(False)\n",
    "  plt.xticks(range(36))\n",
    "  plt.yticks([])\n",
    "  thisplot = plt.bar(range(36), predictions_array, color=\"#777777\")\n",
    "  plt.ylim([0, 1])\n",
    "  predicted_label = np.argmax(predictions_array)\n",
    "\n",
    "  thisplot[predicted_label].set_color('red')\n",
    "  thisplot[true_label].set_color('blue')"
   ]
  },
  {
   "cell_type": "code",
   "execution_count": 477,
   "metadata": {},
   "outputs": [
    {
     "data": {
      "image/png": "[encoded data removed]",
      "text/plain": [
       "<Figure size 864x720 with 30 Axes>"
      ]
     },
     "metadata": {
      "needs_background": "light"
     },
     "output_type": "display_data"
    }
   ],
   "source": [
    "num_rows = 5\n",
    "num_cols = 3\n",
    "num_images = num_rows*num_cols\n",
    "plt.figure(figsize=(2*2*num_cols, 2*num_rows))\n",
    "for i in range(num_images):\n",
    "  plt.subplot(num_rows, 2*num_cols, 2*i+1)\n",
    "  plot_image(i, predictions[i], y_test, X_test)\n",
    "  plt.subplot(num_rows, 2*num_cols, 2*i+2)\n",
    "  plot_value_array(i, predictions[i], y_test)\n",
    "plt.tight_layout()\n",
    "plt.show()"
   ]
  }
 ],
 "metadata": {
  "accelerator": "GPU",
  "colab": {
   "collapsed_sections": [],
   "name": "Lesson 3.ipynb",
   "provenance": []
  },
  "kernelspec": {
   "display_name": "Python 3 (ipykernel)",
   "language": "python",
   "name": "python3"
  },
  "language_info": {
   "codemirror_mode": {
    "name": "ipython",
    "version": 3
   },
   "file_extension": ".py",
   "mimetype": "text/x-python",
   "name": "python",
   "nbconvert_exporter": "python",
   "pygments_lexer": "ipython3",
   "version": "3.9.12"
  }
 },
 "nbformat": 4,
 "nbformat_minor": 1
}
